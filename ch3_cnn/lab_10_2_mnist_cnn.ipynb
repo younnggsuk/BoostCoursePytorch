{
 "cells": [
  {
   "cell_type": "code",
   "execution_count": 1,
   "metadata": {},
   "outputs": [],
   "source": [
    "import torch\n",
    "import torchvision.datasets as dsets\n",
    "import torchvision.transforms as transforms\n",
    "\n",
    "device = 'cuda' if torch.cuda.is_available() else 'cpu'\n",
    "\n",
    "torch.manual_seed(777)\n",
    "if device == 'cuda':\n",
    "    torch.cuda.manual_seed_all(777)"
   ]
  },
  {
   "cell_type": "code",
   "execution_count": 2,
   "metadata": {},
   "outputs": [],
   "source": [
    "batch_size = 100\n",
    "num_epochs = 15\n",
    "learning_rate = 0.001"
   ]
  },
  {
   "cell_type": "code",
   "execution_count": 3,
   "metadata": {},
   "outputs": [],
   "source": [
    "mnist_train = dsets.MNIST(root=\"../datasets/MNIST_data\",\n",
    "                          train=True,\n",
    "                          transform=transforms.ToTensor(),\n",
    "                          download=True)\n",
    "\n",
    "mnist_test = dsets.MNIST(root=\"../datasets/MNIST_data\",\n",
    "                         train=False,\n",
    "                         transform=transforms.ToTensor(),\n",
    "                         download=True)\n",
    "\n",
    "train_loader = torch.utils.data.DataLoader(mnist_train,\n",
    "                                           batch_size=batch_size,\n",
    "                                           shuffle=True,\n",
    "                                           drop_last=True)"
   ]
  },
  {
   "cell_type": "code",
   "execution_count": 4,
   "metadata": {},
   "outputs": [],
   "source": [
    "from torch import nn\n",
    "\n",
    "class CNN(nn.Module):\n",
    "    def __init__(self):\n",
    "        super(CNN, self).__init__()\n",
    "        self.layer1 = nn.Sequential(\n",
    "            nn.Conv2d(1, 32, kernel_size=3, stride=1, padding=1),\n",
    "            nn.ReLU(),\n",
    "            nn.MaxPool2d(kernel_size=2, stride=2)\n",
    "        )\n",
    "        self.layer2 = nn.Sequential(\n",
    "            nn.Conv2d(32, 64, kernel_size=3, stride=1, padding=1),\n",
    "            nn.ReLU(),\n",
    "            nn.MaxPool2d(kernel_size=2, stride=2)\n",
    "        )\n",
    "        self.layer3 = nn.Sequential(\n",
    "            nn.Conv2d(64, 128, kernel_size=3, stride=1, padding=1),\n",
    "            nn.ReLU(),\n",
    "            nn.MaxPool2d(kernel_size=2, stride=2, padding=1)\n",
    "        )\n",
    "        \n",
    "        self.linear1 = nn.Linear(128*4*4, 625, bias=True)\n",
    "        self.linear2 = nn.Linear(625, 10, bias=True)\n",
    "        nn.init.xavier_normal_(self.linear1.weight)\n",
    "        nn.init.xavier_normal_(self.linear2.weight)\n",
    "        \n",
    "        self.fc = nn.Sequential(\n",
    "            self.linear1,\n",
    "            nn.ReLU(),\n",
    "            nn.Dropout(p=0.5),\n",
    "            self.linear2\n",
    "        )\n",
    "                \n",
    "    def forward(self, x):\n",
    "        x = self.layer1(x)\n",
    "        x = self.layer2(x)\n",
    "        x = self.layer3(x)\n",
    "        x = x.view(x.shape[0], -1)\n",
    "        x = self.fc(x)\n",
    "        return x\n",
    "    \n",
    "    \n",
    "model = CNN().to(device)"
   ]
  },
  {
   "cell_type": "code",
   "execution_count": 5,
   "metadata": {},
   "outputs": [],
   "source": [
    "from torch import optim\n",
    "\n",
    "criterion = nn.CrossEntropyLoss().to(device)\n",
    "optimizer = optim.Adam(model.parameters(), lr=learning_rate)"
   ]
  },
  {
   "cell_type": "code",
   "execution_count": 6,
   "metadata": {},
   "outputs": [
    {
     "name": "stdout",
     "output_type": "stream",
     "text": [
      "[Epoch   1] Loss : 0.192012\n",
      "[Epoch   2] Loss : 0.052426\n",
      "[Epoch   3] Loss : 0.037774\n",
      "[Epoch   4] Loss : 0.029248\n",
      "[Epoch   5] Loss : 0.025782\n",
      "[Epoch   6] Loss : 0.019136\n",
      "[Epoch   7] Loss : 0.016595\n",
      "[Epoch   8] Loss : 0.014823\n",
      "[Epoch   9] Loss : 0.014007\n",
      "[Epoch  10] Loss : 0.011347\n",
      "[Epoch  11] Loss : 0.010047\n",
      "[Epoch  12] Loss : 0.010250\n",
      "[Epoch  13] Loss : 0.007092\n",
      "[Epoch  14] Loss : 0.007534\n",
      "[Epoch  15] Loss : 0.008307\n"
     ]
    }
   ],
   "source": [
    "num_batches = len(train_loader)\n",
    "\n",
    "# train mode\n",
    "model.train()\n",
    "for epoch in range(num_epochs):\n",
    "    avg_loss = 0\n",
    "    \n",
    "    for X, Y in train_loader:\n",
    "        X = X.to(device)\n",
    "        Y = Y.to(device)\n",
    "        optimizer.zero_grad()\n",
    "        \n",
    "        h = model(X)\n",
    "        loss = criterion(h, Y)\n",
    "        loss.backward()\n",
    "        optimizer.step()\n",
    "        \n",
    "        avg_loss += loss / num_batches\n",
    "        \n",
    "    print(\"[Epoch {:3d}] Loss : {:.6f}\".format(epoch+1, avg_loss))"
   ]
  },
  {
   "cell_type": "code",
   "execution_count": 7,
   "metadata": {},
   "outputs": [
    {
     "name": "stdout",
     "output_type": "stream",
     "text": [
      "Accuracy : 0.989500\n"
     ]
    }
   ],
   "source": [
    "with torch.no_grad():\n",
    "    # evaluation mode\n",
    "    model.eval()\n",
    "    X_test = mnist_test.data.view(len(mnist_test), 1, 28, 28).float().to(device)\n",
    "    Y_test = mnist_test.targets.to(device)\n",
    "    \n",
    "    preds = model(X_test)\n",
    "    correct_preds = torch.argmax(preds, dim=1) == Y_test\n",
    "    accuracy = correct_preds.float().mean()\n",
    "    \n",
    "    print(\"Accuracy : {:.6f}\".format(accuracy))"
   ]
  }
 ],
 "metadata": {
  "kernelspec": {
   "display_name": "Python 3",
   "language": "python",
   "name": "python3"
  },
  "language_info": {
   "codemirror_mode": {
    "name": "ipython",
    "version": 3
   },
   "file_extension": ".py",
   "mimetype": "text/x-python",
   "name": "python",
   "nbconvert_exporter": "python",
   "pygments_lexer": "ipython3",
   "version": "3.7.7"
  }
 },
 "nbformat": 4,
 "nbformat_minor": 4
}

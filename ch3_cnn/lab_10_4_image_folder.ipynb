{
 "cells": [
  {
   "cell_type": "markdown",
   "metadata": {},
   "source": [
    "# Image Folder\n",
    "\n",
    "`ImageFolder`를 사용해 실제 데이터를 불러오고, 모델을 학습해보자."
   ]
  },
  {
   "cell_type": "markdown",
   "metadata": {},
   "source": [
    "## 1. 데이터셋 분리"
   ]
  },
  {
   "cell_type": "code",
   "execution_count": 1,
   "metadata": {
    "scrolled": true
   },
   "outputs": [],
   "source": [
    "import os\n",
    "\n",
    "dataset_dir = \"../datasets/hands_data/\"\n",
    "\n",
    "train_dir = os.path.join(dataset_dir, \"train_data\")\n",
    "if not os.path.isdir(train_dir):\n",
    "    os.mkdir(train_dir)\n",
    "    \n",
    "train_zero_dir = os.path.join(train_dir, \"0_front\")\n",
    "if not os.path.isdir(train_zero_dir):\n",
    "    os.mkdir(train_zero_dir)\n",
    "    \n",
    "train_five_dir = os.path.join(train_dir, \"5_front\")\n",
    "if not os.path.isdir(train_five_dir):\n",
    "    os.mkdir(train_five_dir)\n",
    "    \n",
    "test_dir = os.path.join(dataset_dir, \"test_data\")\n",
    "if not os.path.isdir(test_dir):\n",
    "    os.mkdir(test_dir)\n",
    "    \n",
    "test_zero_dir = os.path.join(test_dir, \"0_front\")\n",
    "if not os.path.isdir(test_zero_dir):\n",
    "    os.mkdir(test_zero_dir)\n",
    "    \n",
    "test_five_dir = os.path.join(test_dir, \"5_front\")\n",
    "if not os.path.isdir(test_five_dir):\n",
    "    os.mkdir(test_five_dir)"
   ]
  },
  {
   "cell_type": "code",
   "execution_count": 2,
   "metadata": {},
   "outputs": [],
   "source": [
    "zero_front_imgs = os.listdir(os.path.join(dataset_dir, \"0_front\"))\n",
    "five_front_imgs = os.listdir(os.path.join(dataset_dir, \"5_front\"))\n",
    "\n",
    "num_test_zero_front = len(zero_front_imgs)//3\n",
    "test_zero_front_imgs = zero_front_imgs[:num_test_zero_front]\n",
    "train_zero_front_imgs = zero_front_imgs[num_test_zero_front:]\n",
    "\n",
    "num_test_five_front = len(five_front_imgs)//3\n",
    "test_five_front_imgs = five_front_imgs[:num_test_five_front]\n",
    "train_five_front_imgs = five_front_imgs[num_test_five_front:]"
   ]
  },
  {
   "cell_type": "code",
   "execution_count": 3,
   "metadata": {},
   "outputs": [],
   "source": [
    "import shutil\n",
    "\n",
    "for img in train_zero_front_imgs:\n",
    "    shutil.copy(os.path.join(dataset_dir, \"0_front\", img),\n",
    "                os.path.join(train_zero_dir, img))\n",
    "    \n",
    "for img in test_zero_front_imgs:\n",
    "    shutil.copy(os.path.join(dataset_dir, \"0_front\", img),\n",
    "                os.path.join(test_zero_dir, img))\n",
    "    \n",
    "for img in train_five_front_imgs:\n",
    "    shutil.copy(os.path.join(dataset_dir, \"5_front\", img),\n",
    "                os.path.join(train_five_dir, img))\n",
    "    \n",
    "for img in test_five_front_imgs:\n",
    "    shutil.copy(os.path.join(dataset_dir, \"5_front\", img),\n",
    "                os.path.join(test_five_dir, img))    "
   ]
  },
  {
   "cell_type": "markdown",
   "metadata": {},
   "source": [
    "## 2. `ImageFolder`를 사용해 `DataLoader`로 변환"
   ]
  },
  {
   "cell_type": "code",
   "execution_count": 4,
   "metadata": {},
   "outputs": [],
   "source": [
    "import torch\n",
    "import torchvision\n",
    "from torchvision import transforms\n",
    "from torch.utils.data import DataLoader"
   ]
  },
  {
   "cell_type": "code",
   "execution_count": 5,
   "metadata": {},
   "outputs": [],
   "source": [
    "device = 'cuda' if torch.cuda.is_available() else 'cpu'\n",
    "\n",
    "torch.manual_seed(777)\n",
    "if device == 'cuda':\n",
    "    torch.cuda.manual_seed_all(777)"
   ]
  },
  {
   "cell_type": "code",
   "execution_count": 6,
   "metadata": {},
   "outputs": [],
   "source": [
    "trans = transforms.Compose([\n",
    "    transforms.Resize((130, 100)), # resize\n",
    "    transforms.ToTensor() # normalize (0~255 -> 0~1)\n",
    "])\n",
    "\n",
    "train_data = torchvision.datasets.ImageFolder(root=train_dir,\n",
    "                                              transform=trans)\n",
    "\n",
    "train_loader = DataLoader(train_data,\n",
    "                          batch_size=24,\n",
    "                          shuffle=True,\n",
    "                          num_workers=2)"
   ]
  },
  {
   "cell_type": "markdown",
   "metadata": {},
   "source": [
    "## 3. 학습"
   ]
  },
  {
   "cell_type": "code",
   "execution_count": 7,
   "metadata": {},
   "outputs": [],
   "source": [
    "from torch import nn\n",
    "\n",
    "class CNN(nn.Module):\n",
    "    def __init__(self):\n",
    "        super(CNN, self).__init__()\n",
    "        self.conv1 = nn.Sequential(\n",
    "            nn.Conv2d(3, 8, kernel_size=3, stride=1),\n",
    "            nn.ReLU(),\n",
    "            nn.MaxPool2d(kernel_size=2, stride=2)\n",
    "        )\n",
    "        self.conv2 = nn.Sequential(\n",
    "            nn.Conv2d(8, 16, kernel_size=3, stride=1),\n",
    "            nn.ReLU(),\n",
    "            nn.MaxPool2d(kernel_size=2, stride=2)\n",
    "        )\n",
    "        self.conv3 = nn.Sequential(\n",
    "            nn.Conv2d(16, 32, kernel_size=3, stride=1),\n",
    "            nn.ReLU(),\n",
    "            nn.MaxPool2d(kernel_size=2, stride=2)\n",
    "        )\n",
    "        self.conv4 = nn.Sequential(\n",
    "            nn.Conv2d(32, 64, kernel_size=3, stride=1),\n",
    "            nn.ReLU(),\n",
    "            nn.MaxPool2d(kernel_size=2, stride=2)\n",
    "        )\n",
    "        \n",
    "        self.linear1 = nn.Linear(64*6*4, 128, bias=True)\n",
    "        self.linear2 = nn.Linear(128, 128, bias=True)\n",
    "        self.linear3 = nn.Linear(128, 2, bias=True)\n",
    "        \n",
    "        nn.init.xavier_normal_(self.linear1.weight)\n",
    "        nn.init.xavier_normal_(self.linear2.weight)\n",
    "        nn.init.xavier_normal_(self.linear3.weight)\n",
    "        \n",
    "        self.fc = nn.Sequential(\n",
    "            self.linear1,\n",
    "            nn.ReLU(),\n",
    "            self.linear2,\n",
    "            nn.ReLU(),\n",
    "            self.linear3\n",
    "        )\n",
    "        \n",
    "    def forward(self, x):\n",
    "        x = self.conv1(x)        \n",
    "        x = self.conv2(x)\n",
    "        x = self.conv3(x)\n",
    "        x = self.conv4(x)\n",
    "        x = x.view(x.shape[0], -1)\n",
    "        x = self.fc(x)\n",
    "        return x\n",
    "\n",
    "\n",
    "model = CNN().to(device)"
   ]
  },
  {
   "cell_type": "code",
   "execution_count": 8,
   "metadata": {},
   "outputs": [],
   "source": [
    "from torch import optim\n",
    "\n",
    "criterion = nn.CrossEntropyLoss().to(device)\n",
    "optimizer = optim.Adam(model.parameters(), lr=0.001)"
   ]
  },
  {
   "cell_type": "code",
   "execution_count": 9,
   "metadata": {},
   "outputs": [
    {
     "name": "stdout",
     "output_type": "stream",
     "text": [
      "[Epoch:1] loss = 0.7008646130561829\n",
      "[Epoch:2] loss = 0.6930096745491028\n",
      "[Epoch:3] loss = 0.6972765922546387\n",
      "[Epoch:4] loss = 0.6918877959251404\n",
      "[Epoch:5] loss = 0.6682376265525818\n",
      "[Epoch:6] loss = 0.4974442422389984\n",
      "[Epoch:7] loss = 0.2836402654647827\n",
      "[Epoch:8] loss = 0.17113745212554932\n",
      "[Epoch:9] loss = 0.1776367872953415\n",
      "[Epoch:10] loss = 0.09619373828172684\n",
      "[Epoch:11] loss = 0.062125932425260544\n",
      "[Epoch:12] loss = 0.037254080176353455\n",
      "[Epoch:13] loss = 0.030431758612394333\n",
      "[Epoch:14] loss = 0.022591782733798027\n",
      "[Epoch:15] loss = 0.011807529255747795\n",
      "[Epoch:16] loss = 0.01299683004617691\n",
      "[Epoch:17] loss = 0.0371953509747982\n",
      "[Epoch:18] loss = 0.018985679373145103\n",
      "[Epoch:19] loss = 0.004967097193002701\n",
      "[Epoch:20] loss = 0.0026736478321254253\n",
      "[Epoch:21] loss = 0.0010229445761069655\n",
      "[Epoch:22] loss = 0.0007375929271802306\n",
      "[Epoch:23] loss = 0.0005534369847737253\n",
      "[Epoch:24] loss = 0.00043675527558662\n",
      "[Epoch:25] loss = 0.00035433401353657246\n",
      "[Epoch:26] loss = 0.00029248613282106817\n",
      "[Epoch:27] loss = 0.00024002301506698132\n",
      "[Epoch:28] loss = 0.0002006125432671979\n",
      "[Epoch:29] loss = 0.00017777235188987106\n",
      "[Epoch:30] loss = 0.00014709963579662144\n",
      "Learning Finished!\n"
     ]
    }
   ],
   "source": [
    "total_batch = len(train_loader)\n",
    "\n",
    "epochs = 30\n",
    "for epoch in range(epochs):\n",
    "    avg_loss = 0.0\n",
    "    \n",
    "    for num, data in enumerate(train_loader):\n",
    "        imgs, labels = data\n",
    "        imgs = imgs.to(device)\n",
    "        labels = labels.to(device)\n",
    "        optimizer.zero_grad()\n",
    "        \n",
    "        out = model(imgs)\n",
    "        loss = criterion(out, labels)\n",
    "        loss.backward()\n",
    "        optimizer.step()\n",
    "        \n",
    "        avg_loss += loss / total_batch\n",
    "        \n",
    "    print('[Epoch:{}] loss = {}'.format(epoch+1, avg_loss))\n",
    "    \n",
    "print('Learning Finished!')"
   ]
  },
  {
   "cell_type": "markdown",
   "metadata": {},
   "source": [
    "## 4. 모델 저장 및 불러오기"
   ]
  },
  {
   "cell_type": "code",
   "execution_count": 10,
   "metadata": {},
   "outputs": [],
   "source": [
    "torch.save(model.state_dict(), \"../models/lab_10_4_model.pth\")"
   ]
  },
  {
   "cell_type": "code",
   "execution_count": 11,
   "metadata": {},
   "outputs": [
    {
     "data": {
      "text/plain": [
       "<All keys matched successfully>"
      ]
     },
     "execution_count": 11,
     "metadata": {},
     "output_type": "execute_result"
    }
   ],
   "source": [
    "loaded_model = CNN().to(device)\n",
    "loaded_model.load_state_dict(torch.load(\"../models/lab_10_4_model.pth\"))"
   ]
  },
  {
   "cell_type": "markdown",
   "metadata": {},
   "source": [
    "## 5. 모델 평가"
   ]
  },
  {
   "cell_type": "code",
   "execution_count": 12,
   "metadata": {},
   "outputs": [],
   "source": [
    "test_data = torchvision.datasets.ImageFolder(root=test_dir,\n",
    "                                             transform=trans)\n",
    "\n",
    "test_loader = DataLoader(test_data, batch_size=len(test_data))"
   ]
  },
  {
   "cell_type": "code",
   "execution_count": 13,
   "metadata": {},
   "outputs": [
    {
     "name": "stdout",
     "output_type": "stream",
     "text": [
      "Accuracy: 0.9878787398338318\n"
     ]
    }
   ],
   "source": [
    "with torch.no_grad():\n",
    "    for num, data in enumerate(test_loader):\n",
    "        imgs, label = data\n",
    "        imgs = imgs.to(device)\n",
    "        label = label.to(device)\n",
    "        \n",
    "        prediction = loaded_model(imgs)\n",
    "        correct_prediction = torch.argmax(prediction, 1) == label\n",
    "        accuracy = correct_prediction.float().mean()\n",
    "        print('Accuracy:', accuracy.item())"
   ]
  }
 ],
 "metadata": {
  "kernelspec": {
   "display_name": "Python 3",
   "language": "python",
   "name": "python3"
  },
  "language_info": {
   "codemirror_mode": {
    "name": "ipython",
    "version": 3
   },
   "file_extension": ".py",
   "mimetype": "text/x-python",
   "name": "python",
   "nbconvert_exporter": "python",
   "pygments_lexer": "ipython3",
   "version": "3.7.7"
  }
 },
 "nbformat": 4,
 "nbformat_minor": 4
}

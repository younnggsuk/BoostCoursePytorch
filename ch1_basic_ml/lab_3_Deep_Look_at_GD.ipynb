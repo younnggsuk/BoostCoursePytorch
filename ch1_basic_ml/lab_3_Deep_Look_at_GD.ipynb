{
 "cells": [
  {
   "cell_type": "markdown",
   "metadata": {},
   "source": [
    "# Dee Look at Gradient Descent\n",
    "\n",
    "`torch.optim`을 사용하지 않고 직접 구현해보자! (식을 간단히 하기위해 bias를 생략하고 구현)"
   ]
  },
  {
   "cell_type": "code",
   "execution_count": 1,
   "metadata": {},
   "outputs": [],
   "source": [
    "import torch\n",
    "import torch.optim as optim\n",
    "\n",
    "x_train = torch.FloatTensor([[1], [2], [3]])\n",
    "y_train = torch.FloatTensor([[2], [4], [6]])\n",
    "\n",
    "W = torch.zeros(1)"
   ]
  },
  {
   "cell_type": "code",
   "execution_count": 2,
   "metadata": {},
   "outputs": [
    {
     "name": "stdout",
     "output_type": "stream",
     "text": [
      "Epoch    1/10 W: 0.000, Cost: 18.666666\n",
      "Epoch    2/10 W: 2.800, Cost: 2.986666\n",
      "Epoch    3/10 W: 1.680, Cost: 0.477867\n",
      "Epoch    4/10 W: 2.128, Cost: 0.076459\n",
      "Epoch    5/10 W: 1.949, Cost: 0.012233\n",
      "Epoch    6/10 W: 2.020, Cost: 0.001957\n",
      "Epoch    7/10 W: 1.992, Cost: 0.000313\n",
      "Epoch    8/10 W: 2.003, Cost: 0.000050\n",
      "Epoch    9/10 W: 1.999, Cost: 0.000008\n",
      "Epoch   10/10 W: 2.001, Cost: 0.000001\n"
     ]
    }
   ],
   "source": [
    "lr=0.1\n",
    "num_epochs = 10\n",
    "\n",
    "for epoch in range(1, num_epochs+1):\n",
    "    h = x_train*W\n",
    "    cost = torch.mean((h-y_train)**2)\n",
    "    gradient = torch.sum((x_train*W - y_train)*x_train)\n",
    "    \n",
    "    print(\"Epoch {:4d}/{} W: {:.3f}, Cost: {:.6f}\".format(\n",
    "        epoch, num_epochs, W.item(), cost.item()))\n",
    "    \n",
    "    W -= lr*gradient"
   ]
  },
  {
   "cell_type": "code",
   "execution_count": null,
   "metadata": {},
   "outputs": [],
   "source": []
  }
 ],
 "metadata": {
  "kernelspec": {
   "display_name": "Python 3",
   "language": "python",
   "name": "python3"
  },
  "language_info": {
   "codemirror_mode": {
    "name": "ipython",
    "version": 3
   },
   "file_extension": ".py",
   "mimetype": "text/x-python",
   "name": "python",
   "nbconvert_exporter": "python",
   "pygments_lexer": "ipython3",
   "version": "3.7.7"
  }
 },
 "nbformat": 4,
 "nbformat_minor": 4
}

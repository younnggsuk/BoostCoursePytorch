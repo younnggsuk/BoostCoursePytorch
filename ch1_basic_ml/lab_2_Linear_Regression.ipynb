{
 "cells": [
  {
   "cell_type": "markdown",
   "metadata": {},
   "source": [
    "# Linear Regression\n",
    "\n",
    "Linear Regression을 구현해보자!"
   ]
  },
  {
   "cell_type": "code",
   "execution_count": 1,
   "metadata": {},
   "outputs": [],
   "source": [
    "import torch\n",
    "import torch.optim as optim\n",
    "\n",
    "x_train = torch.FloatTensor([[1], [2], [3]])\n",
    "y_train = torch.FloatTensor([[2], [4], [6]])\n",
    "\n",
    "W = torch.zeros(1, requires_grad=True)\n",
    "b = torch.zeros(1, requires_grad=True)"
   ]
  },
  {
   "cell_type": "code",
   "execution_count": 2,
   "metadata": {},
   "outputs": [
    {
     "name": "stdout",
     "output_type": "stream",
     "text": [
      "Epoch    1/10 W: 0.000 bias: 0.000, Cost: 18.666666\n",
      "Epoch    2/10 W: 1.867 bias: 0.000, Cost: 0.082963\n",
      "Epoch    3/10 W: 1.991 bias: 0.000, Cost: 0.000369\n",
      "Epoch    4/10 W: 1.999 bias: 0.000, Cost: 0.000002\n",
      "Epoch    5/10 W: 2.000 bias: 0.000, Cost: 0.000000\n",
      "Epoch    6/10 W: 2.000 bias: 0.000, Cost: 0.000000\n",
      "Epoch    7/10 W: 2.000 bias: 0.000, Cost: 0.000000\n",
      "Epoch    8/10 W: 2.000 bias: 0.000, Cost: 0.000000\n",
      "Epoch    9/10 W: 2.000 bias: 0.000, Cost: 0.000000\n",
      "Epoch   10/10 W: 2.000 bias: 0.000, Cost: 0.000000\n"
     ]
    }
   ],
   "source": [
    "optimizer = optim.SGD([W], lr=0.1)\n",
    "num_epochs = 10\n",
    "\n",
    "for epoch in range(1, num_epochs+1):\n",
    "    h = x_train*W + b\n",
    "    cost = torch.mean((h-y_train)**2)\n",
    "    \n",
    "    print(\"Epoch {:4d}/{} W: {:.3f} bias: {:.3f}, Cost: {:.6f}\".format(\n",
    "        epoch, num_epochs, W.item(), b.item(), cost.item()))\n",
    "    \n",
    "    optimizer.zero_grad()\n",
    "    cost.backward()\n",
    "    optimizer.step()"
   ]
  },
  {
   "cell_type": "code",
   "execution_count": null,
   "metadata": {},
   "outputs": [],
   "source": []
  }
 ],
 "metadata": {
  "kernelspec": {
   "display_name": "Python 3",
   "language": "python",
   "name": "python3"
  },
  "language_info": {
   "codemirror_mode": {
    "name": "ipython",
    "version": 3
   },
   "file_extension": ".py",
   "mimetype": "text/x-python",
   "name": "python",
   "nbconvert_exporter": "python",
   "pygments_lexer": "ipython3",
   "version": "3.7.7"
  }
 },
 "nbformat": 4,
 "nbformat_minor": 4
}

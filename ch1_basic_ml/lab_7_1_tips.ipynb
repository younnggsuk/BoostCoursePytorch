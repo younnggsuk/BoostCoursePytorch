{
 "cells": [
  {
   "cell_type": "markdown",
   "metadata": {},
   "source": [
    "# Tips"
   ]
  },
  {
   "cell_type": "markdown",
   "metadata": {},
   "source": [
    "## 1. Training and Test Dataset"
   ]
  },
  {
   "cell_type": "code",
   "execution_count": 1,
   "metadata": {},
   "outputs": [
    {
     "data": {
      "text/plain": [
       "<torch._C.Generator at 0x7ff124487bf0>"
      ]
     },
     "execution_count": 1,
     "metadata": {},
     "output_type": "execute_result"
    }
   ],
   "source": [
    "import torch\n",
    "\n",
    "# For reproducibility\n",
    "torch.manual_seed(1)"
   ]
  },
  {
   "cell_type": "code",
   "execution_count": 2,
   "metadata": {},
   "outputs": [],
   "source": [
    "x_train = torch.FloatTensor([[1, 2, 1],\n",
    "                             [1, 3, 2],\n",
    "                             [1, 3, 4],\n",
    "                             [1, 5, 5],\n",
    "                             [1, 7, 5],\n",
    "                             [1, 2, 5],\n",
    "                             [1, 6, 6],\n",
    "                             [1, 7, 7]])\n",
    "y_train = torch.LongTensor([2, 2, 2, 1, 1, 1 , 0, 0])\n",
    "\n",
    "x_test = torch.FloatTensor([[2, 1, 1], [3, 1, 2], [3, 3, 4]])\n",
    "y_test = torch.LongTensor([2, 2, 2])"
   ]
  },
  {
   "cell_type": "code",
   "execution_count": 3,
   "metadata": {},
   "outputs": [],
   "source": [
    "import torch.nn.functional as F\n",
    "from torch import nn, optim\n",
    "\n",
    "class SoftmaxClassifier(nn.Module):\n",
    "    def __init__(self):\n",
    "        super().__init__()\n",
    "        self.linear = nn.Linear(3, 3)\n",
    "        \n",
    "    def forward(self, x):\n",
    "        return self.linear(x)\n",
    "    \n",
    "\n",
    "def train(model, optimizer, x_train, y_train, n_epochs):\n",
    "    for epoch in range(1, n_epochs+1):\n",
    "        optimizer.zero_grad()\n",
    "        prediction = model(x_train)\n",
    "        \n",
    "        loss = F.cross_entropy(prediction, y_train)\n",
    "        loss.backward()\n",
    "        optimizer.step()\n",
    "        \n",
    "        print(\"Epoch {:3d}/{}, Loss {:.6f}\".format(\n",
    "            epoch, n_epochs, loss))\n",
    "\n",
    "\n",
    "def test(model, x_test, y_test):\n",
    "    predictions = model(x_test)\n",
    "    loss = F.cross_entropy(predictions, y_test)\n",
    "    \n",
    "    predicted_labels = predictions.max(dim=1).indices\n",
    "    corrects = (predicted_labels == y_test).sum().item()\n",
    "    \n",
    "    print(\"Test Accuracy: {}%, Test Loss: {:.6f}\".format(\n",
    "        corrects/len(y_test)*100, loss))"
   ]
  },
  {
   "cell_type": "code",
   "execution_count": 4,
   "metadata": {
    "scrolled": true
   },
   "outputs": [
    {
     "name": "stdout",
     "output_type": "stream",
     "text": [
      "Epoch   1/20, Loss 2.203667\n",
      "Epoch   2/20, Loss 1.199645\n",
      "Epoch   3/20, Loss 1.142985\n",
      "Epoch   4/20, Loss 1.117769\n",
      "Epoch   5/20, Loss 1.100901\n",
      "Epoch   6/20, Loss 1.089523\n",
      "Epoch   7/20, Loss 1.079872\n",
      "Epoch   8/20, Loss 1.071320\n",
      "Epoch   9/20, Loss 1.063325\n",
      "Epoch  10/20, Loss 1.055720\n",
      "Epoch  11/20, Loss 1.048378\n",
      "Epoch  12/20, Loss 1.041245\n",
      "Epoch  13/20, Loss 1.034285\n",
      "Epoch  14/20, Loss 1.027478\n",
      "Epoch  15/20, Loss 1.020813\n",
      "Epoch  16/20, Loss 1.014279\n",
      "Epoch  17/20, Loss 1.007872\n",
      "Epoch  18/20, Loss 1.001586\n",
      "Epoch  19/20, Loss 0.995419\n",
      "Epoch  20/20, Loss 0.989365\n"
     ]
    }
   ],
   "source": [
    "model = SoftmaxClassifier()\n",
    "optimizer = optim.SGD(model.parameters(), lr=0.1)\n",
    "train(model, optimizer, x_train, y_train, 20)"
   ]
  },
  {
   "cell_type": "code",
   "execution_count": 5,
   "metadata": {},
   "outputs": [
    {
     "name": "stdout",
     "output_type": "stream",
     "text": [
      "Test Accuracy: 0.0%, Test Loss: 1.425844\n"
     ]
    }
   ],
   "source": [
    "test(model, x_test, y_test)"
   ]
  },
  {
   "cell_type": "markdown",
   "metadata": {},
   "source": [
    "## 2. Data Preprocessing"
   ]
  },
  {
   "cell_type": "markdown",
   "metadata": {},
   "source": [
    "### Standardization : 정규분포화\n",
    "\n",
    "$$x_j^{'} = \\dfrac{x_j - \\mu_j}{\\sigma_j}$$"
   ]
  },
  {
   "cell_type": "code",
   "execution_count": 6,
   "metadata": {},
   "outputs": [],
   "source": [
    "x_train = torch.FloatTensor([[73, 80, 75],\n",
    "                             [93, 88, 93],\n",
    "                             [89, 91, 90],\n",
    "                             [96, 98, 100],\n",
    "                             [73, 66, 70]])\n",
    "y_train = torch.FloatTensor([[152], [185], [180], [196], [142]])"
   ]
  },
  {
   "cell_type": "code",
   "execution_count": 11,
   "metadata": {},
   "outputs": [
    {
     "name": "stdout",
     "output_type": "stream",
     "text": [
      "tensor([[-1.0674, -0.3758, -0.8398],\n",
      "        [ 0.7418,  0.2778,  0.5863],\n",
      "        [ 0.3799,  0.5229,  0.3486],\n",
      "        [ 1.0132,  1.0948,  1.1409],\n",
      "        [-1.0674, -1.5197, -1.2360]])\n"
     ]
    }
   ],
   "source": [
    "# feature별로 계산\n",
    "mu = x_train.mean(dim=0)\n",
    "sigma = x_train.std(dim=0)\n",
    "x_train_std = (x_train-mu) / sigma\n",
    "\n",
    "print(x_train_std)"
   ]
  }
 ],
 "metadata": {
  "kernelspec": {
   "display_name": "Python 3",
   "language": "python",
   "name": "python3"
  },
  "language_info": {
   "codemirror_mode": {
    "name": "ipython",
    "version": 3
   },
   "file_extension": ".py",
   "mimetype": "text/x-python",
   "name": "python",
   "nbconvert_exporter": "python",
   "pygments_lexer": "ipython3",
   "version": "3.7.7"
  }
 },
 "nbformat": 4,
 "nbformat_minor": 4
}

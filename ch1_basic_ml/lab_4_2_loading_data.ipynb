{
 "cells": [
  {
   "cell_type": "markdown",
   "metadata": {},
   "source": [
    "# Loading Data\n",
    "\n",
    "`torch.utils.data.Dataset`, `torch.utils.data.DataLoader`를 사용해 Mini-batch Gradient Descent를 구현해보자!"
   ]
  },
  {
   "cell_type": "code",
   "execution_count": 1,
   "metadata": {},
   "outputs": [],
   "source": [
    "import torch\n",
    "from torch.utils.data import Dataset, DataLoader\n",
    "\n",
    "class CustomDataset(Dataset):\n",
    "    def __init__(self):\n",
    "        self.x_data = [[73, 80, 75],\n",
    "                       [93, 88, 93],\n",
    "                       [89, 91, 90],\n",
    "                       [96, 98, 100],\n",
    "                       [73, 66, 70]]\n",
    "        self.y_data = [[152], [185], [180], [196], [142]]\n",
    "        \n",
    "    def __len__(self):\n",
    "        return len(self.x_data)\n",
    "    \n",
    "    def __getitem__(self, idx):\n",
    "        x = torch.FloatTensor(self.x_data[idx])\n",
    "        y = torch.FloatTensor(self.y_data[idx])\n",
    "        \n",
    "        return x, y\n",
    "\n",
    "\n",
    "dataloader = DataLoader(CustomDataset(), batch_size=2, shuffle=True)"
   ]
  },
  {
   "cell_type": "code",
   "execution_count": 2,
   "metadata": {},
   "outputs": [],
   "source": [
    "from torch import nn, optim\n",
    "\n",
    "class MultiVariableLinearRegression(nn.Module):\n",
    "    def __init__(self):\n",
    "        super().__init__()\n",
    "        self.linear = nn.Linear(3, 1)\n",
    "        \n",
    "    def forward(self, x):\n",
    "        return self.linear(x)\n",
    "    \n",
    "\n",
    "model = MultiVariableLinearRegression()\n",
    "optimizer = optim.SGD(model.parameters(), lr=1e-5)"
   ]
  },
  {
   "cell_type": "code",
   "execution_count": 3,
   "metadata": {},
   "outputs": [
    {
     "name": "stdout",
     "output_type": "stream",
     "text": [
      "Epoch:   1/20, Batch:   1/3, Loss: 20401.214844\n",
      "Epoch:   1/20, Batch:   2/3, Loss: 5116.408203\n",
      "Epoch:   1/20, Batch:   3/3, Loss: 2550.106689\n",
      "Epoch:   2/20, Batch:   1/3, Loss: 580.280762\n",
      "Epoch:   2/20, Batch:   2/3, Loss: 130.690048\n",
      "Epoch:   2/20, Batch:   3/3, Loss: 27.108885\n",
      "Epoch:   3/20, Batch:   1/3, Loss: 22.498432\n",
      "Epoch:   3/20, Batch:   2/3, Loss: 2.821917\n",
      "Epoch:   3/20, Batch:   3/3, Loss: 7.944526\n",
      "Epoch:   4/20, Batch:   1/3, Loss: 0.105559\n",
      "Epoch:   4/20, Batch:   2/3, Loss: 1.719721\n",
      "Epoch:   4/20, Batch:   3/3, Loss: 3.057429\n",
      "Epoch:   5/20, Batch:   1/3, Loss: 1.805174\n",
      "Epoch:   5/20, Batch:   2/3, Loss: 0.990301\n",
      "Epoch:   5/20, Batch:   3/3, Loss: 2.379623\n",
      "Epoch:   6/20, Batch:   1/3, Loss: 2.366741\n",
      "Epoch:   6/20, Batch:   2/3, Loss: 2.277086\n",
      "Epoch:   6/20, Batch:   3/3, Loss: 0.752649\n",
      "Epoch:   7/20, Batch:   1/3, Loss: 0.929160\n",
      "Epoch:   7/20, Batch:   2/3, Loss: 1.704642\n",
      "Epoch:   7/20, Batch:   3/3, Loss: 0.319452\n",
      "Epoch:   8/20, Batch:   1/3, Loss: 0.839204\n",
      "Epoch:   8/20, Batch:   2/3, Loss: 1.028971\n",
      "Epoch:   8/20, Batch:   3/3, Loss: 3.520204\n",
      "Epoch:   9/20, Batch:   1/3, Loss: 1.121293\n",
      "Epoch:   9/20, Batch:   2/3, Loss: 1.653129\n",
      "Epoch:   9/20, Batch:   3/3, Loss: 1.298173\n",
      "Epoch:  10/20, Batch:   1/3, Loss: 1.080046\n",
      "Epoch:  10/20, Batch:   2/3, Loss: 1.425936\n",
      "Epoch:  10/20, Batch:   3/3, Loss: 1.172476\n",
      "Epoch:  11/20, Batch:   1/3, Loss: 0.407534\n",
      "Epoch:  11/20, Batch:   2/3, Loss: 1.442485\n",
      "Epoch:  11/20, Batch:   3/3, Loss: 2.809675\n",
      "Epoch:  12/20, Batch:   1/3, Loss: 0.577585\n",
      "Epoch:  12/20, Batch:   2/3, Loss: 1.522450\n",
      "Epoch:  12/20, Batch:   3/3, Loss: 1.937744\n",
      "Epoch:  13/20, Batch:   1/3, Loss: 2.784072\n",
      "Epoch:  13/20, Batch:   2/3, Loss: 0.957001\n",
      "Epoch:  13/20, Batch:   3/3, Loss: 0.788057\n",
      "Epoch:  14/20, Batch:   1/3, Loss: 0.101665\n",
      "Epoch:  14/20, Batch:   2/3, Loss: 1.705691\n",
      "Epoch:  14/20, Batch:   3/3, Loss: 3.016902\n",
      "Epoch:  15/20, Batch:   1/3, Loss: 0.992979\n",
      "Epoch:  15/20, Batch:   2/3, Loss: 3.080626\n",
      "Epoch:  15/20, Batch:   3/3, Loss: 0.162458\n",
      "Epoch:  16/20, Batch:   1/3, Loss: 0.196462\n",
      "Epoch:  16/20, Batch:   2/3, Loss: 2.975393\n",
      "Epoch:  16/20, Batch:   3/3, Loss: 1.734332\n",
      "Epoch:  17/20, Batch:   1/3, Loss: 2.854729\n",
      "Epoch:  17/20, Batch:   2/3, Loss: 1.545971\n",
      "Epoch:  17/20, Batch:   3/3, Loss: 0.043064\n",
      "Epoch:  18/20, Batch:   1/3, Loss: 1.720921\n",
      "Epoch:  18/20, Batch:   2/3, Loss: 0.688126\n",
      "Epoch:  18/20, Batch:   3/3, Loss: 2.571262\n",
      "Epoch:  19/20, Batch:   1/3, Loss: 1.184422\n",
      "Epoch:  19/20, Batch:   2/3, Loss: 2.823656\n",
      "Epoch:  19/20, Batch:   3/3, Loss: 0.138028\n",
      "Epoch:  20/20, Batch:   1/3, Loss: 1.557437\n",
      "Epoch:  20/20, Batch:   2/3, Loss: 1.095412\n",
      "Epoch:  20/20, Batch:   3/3, Loss: 0.686600\n"
     ]
    }
   ],
   "source": [
    "import torch.nn.functional as K\n",
    "\n",
    "n_epochs = 20\n",
    "\n",
    "for epoch in range(1, n_epochs+1):\n",
    "    for batch_idx, sample in enumerate(dataloader):\n",
    "        x, y = sample\n",
    "        optimizer.zero_grad()\n",
    "        \n",
    "        predict = model(x)\n",
    "        loss = K.mse_loss(predict, y)\n",
    "        loss.backward()\n",
    "        optimizer.step()\n",
    "        \n",
    "        print(\"Epoch: {:3d}/{}, Batch: {:3d}/{}, Loss: {:.6f}\".format(\n",
    "            epoch, n_epochs, batch_idx+1, len(dataloader), loss))"
   ]
  },
  {
   "cell_type": "code",
   "execution_count": null,
   "metadata": {},
   "outputs": [],
   "source": []
  }
 ],
 "metadata": {
  "kernelspec": {
   "display_name": "Python 3",
   "language": "python",
   "name": "python3"
  },
  "language_info": {
   "codemirror_mode": {
    "name": "ipython",
    "version": 3
   },
   "file_extension": ".py",
   "mimetype": "text/x-python",
   "name": "python",
   "nbconvert_exporter": "python",
   "pygments_lexer": "ipython3",
   "version": "3.7.7"
  }
 },
 "nbformat": 4,
 "nbformat_minor": 4
}

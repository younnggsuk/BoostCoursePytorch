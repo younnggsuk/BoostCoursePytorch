{
 "cells": [
  {
   "cell_type": "markdown",
   "metadata": {},
   "source": [
    "# Weight Initialization\n",
    "\n",
    "Xavier Initialization(Sigmoid, tanh)과 He Initialization(Relu 계열)을 사용해보자!"
   ]
  },
  {
   "cell_type": "markdown",
   "metadata": {},
   "source": [
    "## 1. Xavier Initialization"
   ]
  },
  {
   "cell_type": "code",
   "execution_count": 1,
   "metadata": {},
   "outputs": [],
   "source": [
    "import torch\n",
    "\n",
    "device = 'cuda' if torch.cuda.is_available() else 'cpu'\n",
    "\n",
    "torch.manual_seed(777)\n",
    "if device == 'cuda':\n",
    "    torch.cuda.manual_seed_all(777)"
   ]
  },
  {
   "cell_type": "code",
   "execution_count": 2,
   "metadata": {},
   "outputs": [],
   "source": [
    "batch_size = 100\n",
    "learning_rate = 0.001\n",
    "training_epochs = 15"
   ]
  },
  {
   "cell_type": "code",
   "execution_count": 3,
   "metadata": {},
   "outputs": [],
   "source": [
    "import torchvision.datasets as dsets\n",
    "import torchvision.transforms as transforms\n",
    "\n",
    "mnist_path = \"../datasets/MNIST_data/\"\n",
    "\n",
    "mnist_train = dsets.MNIST(root=mnist_path, train=True, transform=transforms.ToTensor(),\n",
    "                          download=True)\n",
    "mnist_test = dsets.MNIST(root=mnist_path, train=False, transform=transforms.ToTensor(),\n",
    "                         download=True)"
   ]
  },
  {
   "cell_type": "code",
   "execution_count": 4,
   "metadata": {},
   "outputs": [],
   "source": [
    "data_loader = torch.utils.data.DataLoader(dataset=mnist_train,\n",
    "                                          batch_size=batch_size,\n",
    "                                          shuffle=True,\n",
    "                                          drop_last=True)"
   ]
  },
  {
   "cell_type": "code",
   "execution_count": 5,
   "metadata": {},
   "outputs": [],
   "source": [
    "from torch import nn\n",
    "\n",
    "class MNISTClassifier(nn.Module):\n",
    "    def __init__(self):\n",
    "        super().__init__()\n",
    "        self.linear1 = nn.Linear(784, 256, bias=True)\n",
    "        self.linear2 = nn.Linear(256, 256, bias=True)\n",
    "        self.linear3 = nn.Linear(256, 10, bias=True)\n",
    "        self.relu = nn.ReLU()\n",
    "        \n",
    "        nn.init.xavier_normal_(self.linear1.weight)\n",
    "        nn.init.xavier_normal_(self.linear2.weight)\n",
    "        nn.init.xavier_normal_(self.linear3.weight)\n",
    "        \n",
    "    def forward(self, x):\n",
    "        x = self.relu(self.linear1(x))\n",
    "        x = self.relu(self.linear2(x))\n",
    "        x = self.linear3(x)\n",
    "        \n",
    "        return x\n",
    "    \n",
    "model = MNISTClassifier().to(device)"
   ]
  },
  {
   "cell_type": "code",
   "execution_count": 6,
   "metadata": {},
   "outputs": [],
   "source": [
    "from torch import optim\n",
    "\n",
    "criterion = nn.CrossEntropyLoss()\n",
    "optimizer = optim.Adam(model.parameters(), learning_rate)"
   ]
  },
  {
   "cell_type": "code",
   "execution_count": 7,
   "metadata": {},
   "outputs": [
    {
     "name": "stdout",
     "output_type": "stream",
     "text": [
      "Epoch: 0001, Loss: 0.249757171\n",
      "Epoch: 0002, Loss: 0.093080677\n",
      "Epoch: 0003, Loss: 0.061121587\n",
      "Epoch: 0004, Loss: 0.044260953\n",
      "Epoch: 0005, Loss: 0.033261448\n",
      "Epoch: 0006, Loss: 0.026155654\n",
      "Epoch: 0007, Loss: 0.020801311\n",
      "Epoch: 0008, Loss: 0.018251715\n",
      "Epoch: 0009, Loss: 0.015179994\n",
      "Epoch: 0010, Loss: 0.014858795\n",
      "Epoch: 0011, Loss: 0.012927035\n",
      "Epoch: 0012, Loss: 0.011542615\n",
      "Epoch: 0013, Loss: 0.009777930\n",
      "Epoch: 0014, Loss: 0.010691925\n",
      "Epoch: 0015, Loss: 0.009332906\n",
      "Learning Finished\n"
     ]
    }
   ],
   "source": [
    "num_batch = len(data_loader)\n",
    "\n",
    "for epoch in range(training_epochs):\n",
    "    avg_loss = 0\n",
    "    \n",
    "    for X, Y in data_loader:\n",
    "        X = X.view(-1, 784).to(device)\n",
    "        Y = Y.to(device)\n",
    "        \n",
    "        optimizer.zero_grad()\n",
    "        hypothesis = model(X)\n",
    "        loss = criterion(hypothesis, Y)\n",
    "        loss.backward()\n",
    "        optimizer.step()\n",
    "        \n",
    "        avg_loss += loss / num_batch\n",
    "        \n",
    "    print(\"Epoch: {:04d}, Loss: {:.9f}\".format(epoch+1, avg_loss))\n",
    "\n",
    "print(\"Learning Finished\")        "
   ]
  },
  {
   "cell_type": "code",
   "execution_count": 8,
   "metadata": {
    "scrolled": true
   },
   "outputs": [
    {
     "name": "stdout",
     "output_type": "stream",
     "text": [
      "Accuracy:  0.983299970626831\n",
      "Label:  5\n",
      "Prediction:  5\n"
     ]
    }
   ],
   "source": [
    "import random\n",
    "\n",
    "with torch.no_grad():\n",
    "    X_test = mnist_test.data.view(-1, 784).float().to(device)\n",
    "    Y_test = mnist_test.targets.to(device)\n",
    "    \n",
    "    predictions = model(X_test)\n",
    "    correct_predictions = torch.argmax(predictions, dim=1) == Y_test\n",
    "    accuracy = correct_predictions.float().mean()\n",
    "    print(\"Accuracy: \", accuracy.item())\n",
    "    \n",
    "    # test data의 sample 한개 예측\n",
    "    r = random.randint(0, len(mnist_test) - 1)\n",
    "    X_single_data = mnist_test.data[r:r + 1].view(-1, 28 * 28).float().to(device)\n",
    "    Y_single_data = mnist_test.targets[r:r + 1].to(device)\n",
    "\n",
    "    print('Label: ', Y_single_data.item())\n",
    "    single_prediction = model(X_single_data)\n",
    "    print('Prediction: ', torch.argmax(single_prediction, 1).item())"
   ]
  },
  {
   "cell_type": "markdown",
   "metadata": {},
   "source": [
    "## 2. He Initialization"
   ]
  },
  {
   "cell_type": "code",
   "execution_count": 9,
   "metadata": {},
   "outputs": [],
   "source": [
    "class MNISTClassifier(nn.Module):\n",
    "    def __init__(self):\n",
    "        super().__init__()\n",
    "        self.linear1 = nn.Linear(784, 256, bias=True)\n",
    "        self.linear2 = nn.Linear(256, 256, bias=True)\n",
    "        self.linear3 = nn.Linear(256, 10, bias=True)\n",
    "        self.relu = nn.ReLU()\n",
    "        \n",
    "        nn.init.kaiming_normal_(self.linear1.weight, nonlinearity='relu')\n",
    "        nn.init.kaiming_normal_(self.linear2.weight, nonlinearity='relu')\n",
    "        nn.init.kaiming_normal_(self.linear3.weight, nonlinearity='relu')\n",
    "        \n",
    "    def forward(self, x):\n",
    "        x = self.relu(self.linear1(x))\n",
    "        x = self.relu(self.linear2(x))\n",
    "        x = self.linear3(x)\n",
    "        \n",
    "        return x\n",
    "    \n",
    "model = MNISTClassifier().to(device)"
   ]
  },
  {
   "cell_type": "code",
   "execution_count": 10,
   "metadata": {},
   "outputs": [],
   "source": [
    "data_loader = torch.utils.data.DataLoader(dataset=mnist_train,\n",
    "                                          batch_size=batch_size,\n",
    "                                          shuffle=True,\n",
    "                                          drop_last=True)"
   ]
  },
  {
   "cell_type": "code",
   "execution_count": 11,
   "metadata": {},
   "outputs": [],
   "source": [
    "criterion = nn.CrossEntropyLoss()\n",
    "optimizer = optim.Adam(model.parameters(), learning_rate)"
   ]
  },
  {
   "cell_type": "code",
   "execution_count": 12,
   "metadata": {},
   "outputs": [
    {
     "name": "stdout",
     "output_type": "stream",
     "text": [
      "Epoch: 0001, Loss: 0.236522585\n",
      "Epoch: 0002, Loss: 0.090998501\n",
      "Epoch: 0003, Loss: 0.058267094\n",
      "Epoch: 0004, Loss: 0.042255912\n",
      "Epoch: 0005, Loss: 0.030408230\n",
      "Epoch: 0006, Loss: 0.026092902\n",
      "Epoch: 0007, Loss: 0.019426368\n",
      "Epoch: 0008, Loss: 0.017152207\n",
      "Epoch: 0009, Loss: 0.015830042\n",
      "Epoch: 0010, Loss: 0.014582938\n",
      "Epoch: 0011, Loss: 0.011558498\n",
      "Epoch: 0012, Loss: 0.010372378\n",
      "Epoch: 0013, Loss: 0.010169295\n",
      "Epoch: 0014, Loss: 0.010450213\n",
      "Epoch: 0015, Loss: 0.009140068\n",
      "Learning Finished\n"
     ]
    }
   ],
   "source": [
    "num_batch = len(data_loader)\n",
    "\n",
    "for epoch in range(training_epochs):\n",
    "    avg_loss = 0\n",
    "    \n",
    "    for X, Y in data_loader:\n",
    "        X = X.view(-1, 784).to(device)\n",
    "        Y = Y.to(device)\n",
    "        \n",
    "        optimizer.zero_grad()\n",
    "        hypothesis = model(X)\n",
    "        loss = criterion(hypothesis, Y)\n",
    "        loss.backward()\n",
    "        optimizer.step()\n",
    "        \n",
    "        avg_loss += loss / num_batch\n",
    "        \n",
    "    print(\"Epoch: {:04d}, Loss: {:.9f}\".format(epoch+1, avg_loss))\n",
    "\n",
    "print(\"Learning Finished\")        "
   ]
  },
  {
   "cell_type": "code",
   "execution_count": 13,
   "metadata": {},
   "outputs": [
    {
     "name": "stdout",
     "output_type": "stream",
     "text": [
      "Accuracy:  0.9799000024795532\n",
      "Label:  9\n",
      "Prediction:  9\n"
     ]
    }
   ],
   "source": [
    "with torch.no_grad():\n",
    "    X_test = mnist_test.data.view(-1, 784).float().to(device)\n",
    "    Y_test = mnist_test.targets.to(device)\n",
    "    \n",
    "    predictions = model(X_test)\n",
    "    correct_predictions = torch.argmax(predictions, dim=1) == Y_test\n",
    "    accuracy = correct_predictions.float().mean()\n",
    "    print(\"Accuracy: \", accuracy.item())\n",
    "    \n",
    "    # test data의 sample 한개 예측\n",
    "    r = random.randint(0, len(mnist_test) - 1)\n",
    "    X_single_data = mnist_test.data[r:r + 1].view(-1, 28 * 28).float().to(device)\n",
    "    Y_single_data = mnist_test.targets[r:r + 1].to(device)\n",
    "\n",
    "    print('Label: ', Y_single_data.item())\n",
    "    single_prediction = model(X_single_data)\n",
    "    print('Prediction: ', torch.argmax(single_prediction, 1).item())"
   ]
  }
 ],
 "metadata": {
  "kernelspec": {
   "display_name": "Python 3",
   "language": "python",
   "name": "python3"
  },
  "language_info": {
   "codemirror_mode": {
    "name": "ipython",
    "version": 3
   },
   "file_extension": ".py",
   "mimetype": "text/x-python",
   "name": "python",
   "nbconvert_exporter": "python",
   "pygments_lexer": "ipython3",
   "version": "3.7.7"
  }
 },
 "nbformat": 4,
 "nbformat_minor": 4
}

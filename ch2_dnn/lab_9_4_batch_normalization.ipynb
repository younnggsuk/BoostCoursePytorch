{
 "cells": [
  {
   "cell_type": "markdown",
   "metadata": {},
   "source": [
    "# Batch Normalization\n",
    "\n",
    "Batch Normalization을 사용해보자!\n",
    "\n",
    "***Batch Normalization도 Dropout처럼 학습에만 적용되도록 `model.train()`, `model.eval()`을 사용해주어야 함***"
   ]
  },
  {
   "cell_type": "code",
   "execution_count": 1,
   "metadata": {},
   "outputs": [],
   "source": [
    "import torch\n",
    "\n",
    "device = torch.device('cuda' if torch.cuda.is_available() else 'cpu')\n",
    "\n",
    "torch.manual_seed(1)\n",
    "if device.type == 'cuda':\n",
    "    torch.cuda.manual_seed_all(1)"
   ]
  },
  {
   "cell_type": "code",
   "execution_count": 2,
   "metadata": {},
   "outputs": [],
   "source": [
    "batch_size = 32\n",
    "learning_rate = 0.001\n",
    "n_epochs = 10"
   ]
  },
  {
   "cell_type": "code",
   "execution_count": 3,
   "metadata": {},
   "outputs": [],
   "source": [
    "import torchvision.datasets as dsets\n",
    "import torchvision.transforms as transforms\n",
    "\n",
    "mnist_path = \"../datasets/MNIST_data/\"\n",
    "\n",
    "mnist_train = dsets.MNIST(root=mnist_path, train=True, transform=transforms.ToTensor(),\n",
    "                          download=True)\n",
    "mnist_test = dsets.MNIST(root=mnist_path, train=False, transform=transforms.ToTensor(),\n",
    "                         download=True)"
   ]
  },
  {
   "cell_type": "code",
   "execution_count": 4,
   "metadata": {},
   "outputs": [],
   "source": [
    "train_loader = torch.utils.data.DataLoader(dataset=mnist_train,\n",
    "                                          batch_size=batch_size,\n",
    "                                          shuffle=True,\n",
    "                                          drop_last=True)\n",
    "\n",
    "val_loader = torch.utils.data.DataLoader(dataset=mnist_test,\n",
    "                                          batch_size=batch_size,\n",
    "                                          shuffle=False,\n",
    "                                          drop_last=True)"
   ]
  },
  {
   "cell_type": "code",
   "execution_count": 5,
   "metadata": {},
   "outputs": [],
   "source": [
    "from torch import nn\n",
    "\n",
    "class MNISTClassifier(nn.Module):\n",
    "    def __init__(self):\n",
    "        super().__init__()\n",
    "        self.linear1 = nn.Linear(784, 32, bias=True)\n",
    "        self.linear2 = nn.Linear(32, 32, bias=True)\n",
    "        self.linear3 = nn.Linear(32, 10, bias=True)\n",
    "        self.relu = nn.ReLU()\n",
    "        self.bn1 = torch.nn.BatchNorm1d(32)\n",
    "        self.bn2 = torch.nn.BatchNorm1d(32)\n",
    "        \n",
    "        nn.init.kaiming_normal_(self.linear1.weight, nonlinearity='relu')\n",
    "        nn.init.kaiming_normal_(self.linear2.weight, nonlinearity='relu')\n",
    "        nn.init.kaiming_normal_(self.linear3.weight, nonlinearity='relu')\n",
    "        \n",
    "    def forward(self, x):\n",
    "        x = self.linear1(x)\n",
    "        x = self.bn1(x)\n",
    "        x = self.relu(x)\n",
    "        \n",
    "        x = self.linear2(x)\n",
    "        x = self.bn2(x)\n",
    "        x = self.relu(x)\n",
    "        \n",
    "        x = self.linear3(x)        \n",
    "        \n",
    "        return x\n",
    "    \n",
    "    \n",
    "model = MNISTClassifier().to(device)"
   ]
  },
  {
   "cell_type": "code",
   "execution_count": 6,
   "metadata": {},
   "outputs": [],
   "source": [
    "from torch import optim\n",
    "\n",
    "criterion = nn.CrossEntropyLoss()\n",
    "optimizer = optim.Adam(model.parameters(), learning_rate)"
   ]
  },
  {
   "cell_type": "code",
   "execution_count": 7,
   "metadata": {},
   "outputs": [
    {
     "name": "stdout",
     "output_type": "stream",
     "text": [
      "[Epoch 0001]\n",
      "Train: Accuracy 0.954, Loss 0.159\n",
      "Valid: Accuracy 0.949, Loss 0.172\n",
      "[Epoch 0002]\n",
      "Train: Accuracy 0.966, Loss 0.114\n",
      "Valid: Accuracy 0.961, Loss 0.134\n",
      "[Epoch 0003]\n",
      "Train: Accuracy 0.972, Loss 0.092\n",
      "Valid: Accuracy 0.966, Loss 0.114\n",
      "[Epoch 0004]\n",
      "Train: Accuracy 0.976, Loss 0.079\n",
      "Valid: Accuracy 0.968, Loss 0.103\n",
      "[Epoch 0005]\n",
      "Train: Accuracy 0.979, Loss 0.070\n",
      "Valid: Accuracy 0.968, Loss 0.103\n",
      "[Epoch 0006]\n",
      "Train: Accuracy 0.981, Loss 0.062\n",
      "Valid: Accuracy 0.970, Loss 0.098\n",
      "[Epoch 0007]\n",
      "Train: Accuracy 0.983, Loss 0.057\n",
      "Valid: Accuracy 0.971, Loss 0.096\n",
      "[Epoch 0008]\n",
      "Train: Accuracy 0.984, Loss 0.053\n",
      "Valid: Accuracy 0.970, Loss 0.097\n",
      "[Epoch 0009]\n",
      "Train: Accuracy 0.984, Loss 0.050\n",
      "Valid: Accuracy 0.971, Loss 0.092\n",
      "[Epoch 0010]\n",
      "Train: Accuracy 0.985, Loss 0.048\n",
      "Valid: Accuracy 0.969, Loss 0.099\n",
      "Learning Finished\n"
     ]
    }
   ],
   "source": [
    "train_accs = []\n",
    "train_losses = []\n",
    "val_accs = []\n",
    "val_losses = []\n",
    "\n",
    "for epoch in range(n_epochs):\n",
    "    # training에는 dropout 켜기\n",
    "    model.train()\n",
    "        \n",
    "    for X, Y in train_loader:\n",
    "        X = X.view(-1, 784).to(device)\n",
    "        Y = Y.to(device)\n",
    "        \n",
    "        optimizer.zero_grad()\n",
    "        hypothesis = model(X)\n",
    "        loss = criterion(hypothesis, Y)\n",
    "        loss.backward()\n",
    "        optimizer.step()\n",
    "        \n",
    "    with torch.no_grad():\n",
    "        model.eval()\n",
    "        \n",
    "        # Training Accuracy & Loss\n",
    "        train_acc = 0\n",
    "        train_loss = 0\n",
    "        for i, (X, Y) in enumerate(train_loader):\n",
    "            X = X.view(-1, 784).to(device)\n",
    "            Y = Y.to(device)\n",
    "            \n",
    "            predictions = model(X)\n",
    "            correct_predictions = (torch.argmax(predictions, dim=1) == Y)\n",
    "            train_acc += correct_predictions.float().mean()\n",
    "            train_loss += criterion(predictions, Y)\n",
    "        \n",
    "        train_acc = train_acc / len(train_loader)\n",
    "        train_loss = train_loss / len(train_loader)\n",
    "        \n",
    "        train_accs.append(train_acc)\n",
    "        train_losses.append(train_loss)\n",
    "        \n",
    "        # Validation Accuracy & Loss\n",
    "        val_acc = 0\n",
    "        val_loss = 0\n",
    "        for i, (X, Y) in enumerate(val_loader):\n",
    "            X = X.view(-1, 784).to(device)\n",
    "            Y = Y.to(device)\n",
    "            \n",
    "            predictions = model(X)\n",
    "            correct_predictions = (torch.argmax(predictions, dim=1) == Y)\n",
    "            val_acc += correct_predictions.float().mean()\n",
    "            val_loss += criterion(predictions, Y)\n",
    "        \n",
    "        val_acc = val_acc / len(val_loader)\n",
    "        val_loss = val_loss / len(val_loader)\n",
    "        \n",
    "        val_accs.append(val_acc)\n",
    "        val_losses.append(val_loss)\n",
    "        \n",
    "        print(\"[Epoch {:04d}]\".format(epoch+1))\n",
    "        print(\"Train: Accuracy {:.3f}, Loss {:.3f}\".format(train_acc, train_loss))\n",
    "        print(\"Valid: Accuracy {:.3f}, Loss {:.3f}\".format(val_acc, val_loss))\n",
    "\n",
    "print(\"Learning Finished\")        "
   ]
  },
  {
   "cell_type": "code",
   "execution_count": 8,
   "metadata": {},
   "outputs": [
    {
     "data": {
      "image/png": "[encoded data removed]",
      "text/plain": [
       "<Figure size 432x288 with 1 Axes>"
      ]
     },
     "metadata": {
      "needs_background": "light"
     },
     "output_type": "display_data"
    },
    {
     "data": {
      "image/png": "[encoded data removed]",
      "text/plain": [
       "<Figure size 432x288 with 1 Axes>"
      ]
     },
     "metadata": {
      "needs_background": "light"
     },
     "output_type": "display_data"
    }
   ],
   "source": [
    "import matplotlib.pyplot as plt\n",
    "\n",
    "epochs = range(1, n_epochs + 1)\n",
    "\n",
    "plt.plot(epochs, train_accs, 'b', label='Training Accuracy')\n",
    "plt.plot(epochs, val_accs, 'r', label='Validation Accuracy')\n",
    "plt.title('Accuracy')\n",
    "plt.legend()\n",
    "plt.grid('on')\n",
    "\n",
    "plt.figure()\n",
    "\n",
    "plt.plot(epochs, train_losses, 'b', label='Training loss')\n",
    "plt.plot(epochs, val_losses, 'r', label='Validation_loss')\n",
    "plt.title('Loss')\n",
    "plt.legend()\n",
    "plt.grid('on')\n",
    "\n",
    "plt.show()"
   ]
  }
 ],
 "metadata": {
  "kernelspec": {
   "display_name": "Python 3",
   "language": "python",
   "name": "python3"
  },
  "language_info": {
   "codemirror_mode": {
    "name": "ipython",
    "version": 3
   },
   "file_extension": ".py",
   "mimetype": "text/x-python",
   "name": "python",
   "nbconvert_exporter": "python",
   "pygments_lexer": "ipython3",
   "version": "3.7.7"
  }
 },
 "nbformat": 4,
 "nbformat_minor": 4
}

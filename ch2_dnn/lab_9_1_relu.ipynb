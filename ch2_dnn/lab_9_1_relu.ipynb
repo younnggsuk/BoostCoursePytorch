{
 "cells": [
  {
   "cell_type": "markdown",
   "metadata": {},
   "source": [
    "# ReLU\n",
    "\n",
    "Sigmoid activation function은 0 또는 1로 수렴하기 때문에 gradient가 vanishing 할 수 있는 위험이 있다.\n",
    "\n",
    "ReLU를 사용하면 이를 방지할 수 있으므로, ReLU를 사용해 Neural Network를 구현해보자!"
   ]
  },
  {
   "cell_type": "markdown",
   "metadata": {},
   "source": [
    "## MNIST Classifier"
   ]
  },
  {
   "cell_type": "code",
   "execution_count": 1,
   "metadata": {},
   "outputs": [],
   "source": [
    "import torch\n",
    "\n",
    "device = 'cuda' if torch.cuda.is_available() else 'cpu'\n",
    "\n",
    "torch.manual_seed(777)\n",
    "if device == 'cuda':\n",
    "    torch.cuda.manual_seed_all(777)"
   ]
  },
  {
   "cell_type": "code",
   "execution_count": 2,
   "metadata": {},
   "outputs": [],
   "source": [
    "batch_size = 100\n",
    "learning_rate = 0.001\n",
    "training_epochs = 15"
   ]
  },
  {
   "cell_type": "code",
   "execution_count": 3,
   "metadata": {},
   "outputs": [],
   "source": [
    "import torchvision.datasets as dsets\n",
    "import torchvision.transforms as transforms\n",
    "\n",
    "mnist_path = \"../datasets/MNIST_data/\"\n",
    "\n",
    "mnist_train = dsets.MNIST(root=mnist_path, train=True, transform=transforms.ToTensor(),\n",
    "                          download=True)\n",
    "mnist_test = dsets.MNIST(root=mnist_path, train=False, transform=transforms.ToTensor(),\n",
    "                         download=True)"
   ]
  },
  {
   "cell_type": "code",
   "execution_count": 4,
   "metadata": {},
   "outputs": [],
   "source": [
    "data_loader = torch.utils.data.DataLoader(dataset=mnist_train,\n",
    "                                          batch_size=batch_size,\n",
    "                                          shuffle=True,\n",
    "                                          drop_last=True)"
   ]
  },
  {
   "cell_type": "code",
   "execution_count": 5,
   "metadata": {},
   "outputs": [],
   "source": [
    "from torch import nn\n",
    "\n",
    "class MNISTClassifier(nn.Module):\n",
    "    def __init__(self):\n",
    "        super().__init__()\n",
    "        self.linear1 = nn.Linear(784, 256, bias=True)\n",
    "        self.linear2 = nn.Linear(256, 256, bias=True)\n",
    "        self.linear3 = nn.Linear(256, 10, bias=True)\n",
    "        self.relu = nn.ReLU()\n",
    "        \n",
    "        nn.init.normal_(self.linear1.weight)\n",
    "        nn.init.normal_(self.linear2.weight)\n",
    "        nn.init.normal_(self.linear3.weight)\n",
    "        \n",
    "    def forward(self, x):\n",
    "        x = self.relu(self.linear1(x))\n",
    "        x = self.relu(self.linear2(x))\n",
    "        x = self.linear3(x)\n",
    "        \n",
    "        return x\n",
    "    \n",
    "model = MNISTClassifier().to(device)"
   ]
  },
  {
   "cell_type": "code",
   "execution_count": 6,
   "metadata": {},
   "outputs": [],
   "source": [
    "from torch import optim\n",
    "\n",
    "criterion = nn.CrossEntropyLoss()\n",
    "optimizer = optim.Adam(model.parameters(), learning_rate)"
   ]
  },
  {
   "cell_type": "code",
   "execution_count": 7,
   "metadata": {},
   "outputs": [
    {
     "name": "stdout",
     "output_type": "stream",
     "text": [
      "Epoch: 0001, Loss: 129.358459473\n",
      "Epoch: 0002, Loss: 36.173007965\n",
      "Epoch: 0003, Loss: 23.009593964\n",
      "Epoch: 0004, Loss: 16.035247803\n",
      "Epoch: 0005, Loss: 11.578867912\n",
      "Epoch: 0006, Loss: 8.558766365\n",
      "Epoch: 0007, Loss: 6.399905682\n",
      "Epoch: 0008, Loss: 4.823712826\n",
      "Epoch: 0009, Loss: 3.544556618\n",
      "Epoch: 0010, Loss: 2.721437454\n",
      "Epoch: 0011, Loss: 2.077881336\n",
      "Epoch: 0012, Loss: 1.647168875\n",
      "Epoch: 0013, Loss: 1.261189938\n",
      "Epoch: 0014, Loss: 0.995852590\n",
      "Epoch: 0015, Loss: 0.851831138\n",
      "Learning Finished\n"
     ]
    }
   ],
   "source": [
    "num_batch = len(data_loader)\n",
    "\n",
    "for epoch in range(training_epochs):\n",
    "    avg_loss = 0\n",
    "    \n",
    "    for X, Y in data_loader:\n",
    "        X = X.view(-1, 784).to(device)\n",
    "        Y = Y.to(device)\n",
    "        \n",
    "        optimizer.zero_grad()\n",
    "        hypothesis = model(X)\n",
    "        loss = criterion(hypothesis, Y)\n",
    "        loss.backward()\n",
    "        optimizer.step()\n",
    "        \n",
    "        avg_loss += loss / num_batch\n",
    "        \n",
    "    print(\"Epoch: {:04d}, Loss: {:.9f}\".format(epoch+1, avg_loss))\n",
    "\n",
    "print(\"Learning Finished\")        "
   ]
  },
  {
   "cell_type": "code",
   "execution_count": 8,
   "metadata": {},
   "outputs": [
    {
     "name": "stdout",
     "output_type": "stream",
     "text": [
      "Accuracy:  0.9472000002861023\n",
      "Label:  8\n",
      "Prediction:  8\n"
     ]
    }
   ],
   "source": [
    "import random\n",
    "\n",
    "with torch.no_grad():\n",
    "    X_test = mnist_test.data.view(-1, 784).float().to(device)\n",
    "    Y_test = mnist_test.targets.to(device)\n",
    "    \n",
    "    predictions = model(X_test)\n",
    "    correct_predictions = torch.argmax(predictions, dim=1) == Y_test\n",
    "    accuracy = correct_predictions.float().mean()\n",
    "    print(\"Accuracy: \", accuracy.item())\n",
    "    \n",
    "    # test data의 sample 한개 예측\n",
    "    r = random.randint(0, len(mnist_test) - 1)\n",
    "    X_single_data = mnist_test.data[r:r + 1].view(-1, 28 * 28).float().to(device)\n",
    "    Y_single_data = mnist_test.targets[r:r + 1].to(device)\n",
    "\n",
    "    print('Label: ', Y_single_data.item())\n",
    "    single_prediction = model(X_single_data)\n",
    "    print('Prediction: ', torch.argmax(single_prediction, 1).item())"
   ]
  }
 ],
 "metadata": {
  "kernelspec": {
   "display_name": "Python 3",
   "language": "python",
   "name": "python3"
  },
  "language_info": {
   "codemirror_mode": {
    "name": "ipython",
    "version": 3
   },
   "file_extension": ".py",
   "mimetype": "text/x-python",
   "name": "python",
   "nbconvert_exporter": "python",
   "pygments_lexer": "ipython3",
   "version": "3.7.7"
  }
 },
 "nbformat": 4,
 "nbformat_minor": 4
}
